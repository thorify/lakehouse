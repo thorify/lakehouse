{
 "cells": [
  {
   "cell_type": "markdown",
   "id": "734cb6ec-6569-4c9b-aa6e-c4238f0089fc",
   "metadata": {
    "tags": []
   },
   "source": [
    "# SparkSession"
   ]
  },
  {
   "cell_type": "code",
   "execution_count": null,
   "id": "f74cf3d1-88a2-4753-a926-8e76fb49aa81",
   "metadata": {
    "tags": []
   },
   "outputs": [],
   "source": [
    "import os\n",
    "import findspark\n",
    "\n",
    "findspark.init()\n",
    "\n",
    "from pyspark.sql import SparkSession"
   ]
  },
  {
   "cell_type": "code",
   "execution_count": null,
   "id": "3b0aa76d-5446-4c01-abb9-e16b6b0d198c",
   "metadata": {
    "tags": []
   },
   "outputs": [],
   "source": [
    "spark = SparkSession.builder \\\n",
    "    .master(\"spark://spark-master:7077\") \\\n",
    "    .appName(\"DeltaLake\") \\\n",
    "    .config(\"spark.jars.packages\", \"io.delta:delta-core_2.12:2.0.0\") \\\n",
    "    .config(\"spark.sql.extensions\", \"io.delta.sql.DeltaSparkSessionExtension\") \\\n",
    "    .config(\"spark.sql.warehouse.dir\", \"/app/data/output/spark-warehouse\") \\\n",
    "    .config(\"spark.sql.catalog.spark_catalog\", \"org.apache.spark.sql.delta.catalog.DeltaCatalog\") \\\n",
    "    .config(\"spark.mlflow.trackingUri\", \"http://mlflow:5000\") \\\n",
    "    .getOrCreate()"
   ]
  },
  {
   "cell_type": "code",
   "execution_count": null,
   "id": "d767f947-f5db-4f5e-9c10-f6da45633452",
   "metadata": {
    "tags": []
   },
   "outputs": [],
   "source": [
    "spark"
   ]
  },
  {
   "cell_type": "markdown",
   "id": "cde83b5d-cecf-4165-aa28-e1cc8d0487cb",
   "metadata": {},
   "source": [
    "# Extract"
   ]
  },
  {
   "cell_type": "code",
   "execution_count": null,
   "id": "2ee2f4d6-e351-4918-a1aa-8aa3180523c1",
   "metadata": {},
   "outputs": [],
   "source": [
    "# Extract weather data from .csv files\n",
    "from pyspark.sql import functions as F\n",
    "\n",
    "# Define data path\n",
    "data_path = \"/app/data/input/csv/weather_data\"\n",
    "\n",
    "weather_df = spark.read.format(\"csv\") \\\n",
    "    .option(\"header\", \"true\") \\\n",
    "    .option(\"inferSchema\", \"true\") \\\n",
    "    .load(f\"{data_path}/*.csv\")"
   ]
  },
  {
   "cell_type": "markdown",
   "id": "fe4af0f7-b35a-47cc-adf8-f763d60b4f4a",
   "metadata": {},
   "source": [
    "# Transform"
   ]
  },
  {
   "cell_type": "code",
   "execution_count": null,
   "id": "22f5bede-fbf0-4c3d-8b63-a3f12f421a8b",
   "metadata": {},
   "outputs": [],
   "source": [
    "# Check the number of records\n",
    "print(\"Number of records: \", weather_df.count())"
   ]
  },
  {
   "cell_type": "code",
   "execution_count": null,
   "id": "e23b404f-c8ed-4241-abaa-643b68688dd9",
   "metadata": {},
   "outputs": [],
   "source": [
    "# Check the schema\n",
    "weather_df.printSchema()"
   ]
  },
  {
   "cell_type": "code",
   "execution_count": null,
   "id": "63edc842-36e6-42c4-9dd8-9203a4fac437",
   "metadata": {},
   "outputs": [],
   "source": [
    "print(\"Number of unique dates: \", weather_df.select(\"datetime\").distinct().count())"
   ]
  },
  {
   "cell_type": "code",
   "execution_count": null,
   "id": "70d5ce1a-5fac-4315-98ce-01ceeda2bee4",
   "metadata": {},
   "outputs": [],
   "source": [
    "# Convert the 'datetime' column to date type\n",
    "weather_df = weather_df.withColumn(\"datetime\", F.to_date(\"datetime\", \"yyyy-MM-dd\"))\n",
    "\n",
    "# Check the schema again\n",
    "weather_df.printSchema()"
   ]
  },
  {
   "cell_type": "code",
   "execution_count": null,
   "id": "6cf230b9-1fc5-4c41-a258-21a5975fdf13",
   "metadata": {},
   "outputs": [],
   "source": [
    "# Check if all datetime fileds parsed correctly\n",
    "print(\"Number of unique dates: \", weather_df.select(\"datetime\").distinct().count())"
   ]
  },
  {
   "cell_type": "code",
   "execution_count": null,
   "id": "ca0365ef-8dcb-48e9-be1e-3fcd91e97072",
   "metadata": {},
   "outputs": [],
   "source": [
    "# Count rows after dropDuplicates\n",
    "weather_df.dropDuplicates().count()"
   ]
  },
  {
   "cell_type": "code",
   "execution_count": null,
   "id": "e32ea5c2-da9a-4b3b-8f2b-aa407dfee6a2",
   "metadata": {},
   "outputs": [],
   "source": [
    "# Check for columns with nulls\n",
    "weather_df.select(*(F.sum(F.col(c).isNull().cast(\"int\")).alias(c) for c in weather_df.columns)).show()"
   ]
  },
  {
   "cell_type": "code",
   "execution_count": null,
   "id": "4cbd58c0-dedf-4cb8-8c99-3dac8bfa0635",
   "metadata": {},
   "outputs": [],
   "source": [
    "# Your columns list without nulls\n",
    "columns_without_nulls = ['name', 'datetime', 'tempmax', 'tempmin', 'temp', 'feelslike', 'dew', 'humidity', 'precip', 'windgust', 'winddir', 'sealevelpressure', 'cloudcover', 'visibility', 'sunrise', 'sunset', 'moonphase', 'conditions', 'description', 'icon', 'stations']\n",
    "\n",
    "# Select those columns from DataFrame\n",
    "weather_df = weather_df.select(*columns_without_nulls)"
   ]
  },
  {
   "cell_type": "code",
   "execution_count": null,
   "id": "e06c343c-961e-4891-84e1-9e86b9fad06a",
   "metadata": {},
   "outputs": [],
   "source": [
    "# Basic DataFrame statistics\n",
    "weather_df.describe().show()"
   ]
  },
  {
   "cell_type": "code",
   "execution_count": null,
   "id": "1bb75e12-7b1a-4f3a-802d-5718830d246c",
   "metadata": {
    "tags": []
   },
   "outputs": [],
   "source": [
    "weather_df.show(2)"
   ]
  },
  {
   "cell_type": "code",
   "execution_count": null,
   "id": "2536b89b-a05f-4c4c-80f0-ce4ceb5636ad",
   "metadata": {},
   "outputs": [],
   "source": [
    "# Check the date range of the dataset\n",
    "weather_df.select(F.min(\"datetime\"), F.max(\"datetime\")).show()"
   ]
  },
  {
   "cell_type": "code",
   "execution_count": null,
   "id": "e71680ea-1142-4e72-bb39-c5b0a84fd236",
   "metadata": {},
   "outputs": [],
   "source": [
    "# Filter data for years less than 2022\n",
    "weather_df = weather_df.filter(F.year(weather_df.datetime) < 2022)"
   ]
  },
  {
   "cell_type": "code",
   "execution_count": null,
   "id": "8046928c-29ac-4417-992a-9987b5d85220",
   "metadata": {},
   "outputs": [],
   "source": [
    "# Check the date range again\n",
    "weather_df.select(F.min(\"datetime\"), F.max(\"datetime\")).show()"
   ]
  },
  {
   "cell_type": "markdown",
   "id": "22f7be47-4391-447e-920d-0b547a00078d",
   "metadata": {},
   "source": [
    "# Save to Delta"
   ]
  },
  {
   "cell_type": "code",
   "execution_count": null,
   "id": "864cd684-c751-4202-90bd-7aaaec36d954",
   "metadata": {},
   "outputs": [],
   "source": [
    "# Set path for Delta\n",
    "delta_path = \"/app/data/output/delta\""
   ]
  },
  {
   "cell_type": "code",
   "execution_count": null,
   "id": "eb88e022-23b7-40d9-b575-612c1c97daf1",
   "metadata": {
    "tags": []
   },
   "outputs": [],
   "source": [
    "# Save to Delta\n",
    "weather_df.write \\\n",
    "    .format(\"delta\") \\\n",
    "    .mode(\"overwrite\") \\\n",
    "    .save(f\"{delta_path}/weather_data\")"
   ]
  },
  {
   "cell_type": "code",
   "execution_count": null,
   "id": "7e50b935-54d5-436f-bdf6-e52ade7485cd",
   "metadata": {
    "tags": []
   },
   "outputs": [],
   "source": [
    "# Save to Delta as table\n",
    "weather_df.write \\\n",
    "    .format(\"delta\") \\\n",
    "    .mode(\"overwrite\") \\\n",
    "    .saveAsTable(\"weather_data\")"
   ]
  },
  {
   "cell_type": "markdown",
   "id": "cc43505d-9c12-4a56-b0b2-a4efabc007ba",
   "metadata": {},
   "source": [
    "# Basic Stats in Spark"
   ]
  },
  {
   "cell_type": "code",
   "execution_count": null,
   "id": "1339f8e5-c8b8-45c2-8ef0-895385fc861c",
   "metadata": {},
   "outputs": [],
   "source": [
    "# Read the Delta table\n",
    "weather_data = spark.read.format(\"delta\").load(f\"{delta_path}/weather_data\")"
   ]
  },
  {
   "cell_type": "code",
   "execution_count": null,
   "id": "0419e9be-490e-4cc6-a0f5-09370124a135",
   "metadata": {},
   "outputs": [],
   "source": [
    "# Calculate the average temperature per country\n",
    "average_temp = weather_data.groupBy(\"name\").agg(\n",
    "    F.avg(\"temp\").alias(\"average_temp\")\n",
    ").orderBy(\"average_temp\", ascending=False)"
   ]
  },
  {
   "cell_type": "code",
   "execution_count": null,
   "id": "13174236-8c26-4d37-9e7f-4e79a725a837",
   "metadata": {},
   "outputs": [],
   "source": [
    "# Show the results\n",
    "average_temp.show()"
   ]
  },
  {
   "cell_type": "code",
   "execution_count": null,
   "id": "27d59023-91ce-4c56-91ee-5c34f531e6c2",
   "metadata": {},
   "outputs": [],
   "source": [
    "# Extract year from 'datetime'\n",
    "weather_data = weather_data.withColumn('year', F.year('datetime'))\n",
    "\n",
    "# Calculate the average annual temperature for each country\n",
    "average_annual_temp = weather_data.groupBy('name', 'year') \\\n",
    "    .agg(F.avg('temp').alias('average_temp')).orderBy('name', 'year')\n",
    "\n",
    "average_annual_temp.show(20)"
   ]
  },
  {
   "cell_type": "code",
   "execution_count": null,
   "id": "3b957475-975e-4429-aad1-6f1d3254d959",
   "metadata": {},
   "outputs": [],
   "source": [
    "# Group by 'name' and 'datetime', then calculate the sum of 'precip' for each group\n",
    "daily_precip = weather_data.groupBy(\n",
    "    'name', \n",
    "    F.date_format('datetime', 'yyyy-MM-dd').alias('date')\n",
    ").agg(\n",
    "    F.sum('precip').alias('daily_precip')\n",
    ")\n",
    "\n",
    "# Now group by 'name' only and find the max of 'daily_precip' for each country\n",
    "max_daily_precip = daily_precip.groupBy('name').agg(\n",
    "    F.max('daily_precip').alias('max_daily_precip')\n",
    ").orderBy(\n",
    "    \"max_daily_precip\", ascending=False\n",
    ")\n",
    "\n",
    "# Display the result\n",
    "max_daily_precip.show()\n"
   ]
  },
  {
   "cell_type": "code",
   "execution_count": null,
   "id": "fe23d91b-e21c-4878-a680-4e4e210c5e44",
   "metadata": {},
   "outputs": [],
   "source": [
    "# Filter out rows with country name 'Russia'\n",
    "max_daily_precip = max_daily_precip.filter(max_daily_precip.name != 'Russia')\n",
    "\n",
    "# Display the updated result\n",
    "max_daily_precip.show()"
   ]
  },
  {
   "cell_type": "code",
   "execution_count": null,
   "id": "038850d9-1aca-437c-9938-986db6ef99d5",
   "metadata": {},
   "outputs": [],
   "source": [
    "# Find the top 10 days with the highest precipitation across all countries\n",
    "top_precip_days = weather_data.select(\"name\", \"datetime\", \"precip\") \\\n",
    "    .orderBy(\"precip\", ascending=False).limit(10)"
   ]
  },
  {
   "cell_type": "code",
   "execution_count": null,
   "id": "c4bb52e4-0ce5-413f-bd0c-addb8ea9636f",
   "metadata": {},
   "outputs": [],
   "source": [
    "# Show the results\n",
    "top_precip_days.show()"
   ]
  },
  {
   "cell_type": "markdown",
   "id": "5ebe8af8-67c7-4306-9303-98aa2c0edb92",
   "metadata": {},
   "source": [
    "# Basic Stats with Spark SQL"
   ]
  },
  {
   "cell_type": "code",
   "execution_count": null,
   "id": "017583a6-aef2-434f-9f27-5af4d8758a86",
   "metadata": {},
   "outputs": [],
   "source": [
    "# Register the DataFrame as a SQL temporary view\n",
    "weather_data.createOrReplaceTempView(\"weather\")"
   ]
  },
  {
   "cell_type": "code",
   "execution_count": null,
   "id": "23a6ca76-3b47-4f29-a9cd-8b6ad69f237b",
   "metadata": {},
   "outputs": [],
   "source": [
    "# Calculate the average temperature per country using SQL\n",
    "average_temp_sql = spark.sql(\"\"\"\n",
    "SELECT \n",
    "    name, \n",
    "    AVG(temp) as average_temp\n",
    "FROM \n",
    "    weather \n",
    "GROUP BY \n",
    "    name \n",
    "ORDER BY \n",
    "    average_temp DESC\n",
    "\"\"\")\n",
    "\n",
    "average_temp_sql.show()\n"
   ]
  },
  {
   "cell_type": "code",
   "execution_count": null,
   "id": "fdcb989c-9ddd-4586-ae7e-2fe93a2d0a7f",
   "metadata": {
    "tags": []
   },
   "outputs": [],
   "source": [
    "# Find the top 10 days with the highest precipitation across all countries using SQL\n",
    "top_precip_days_sql = spark.sql(\"\"\"\n",
    "SELECT \n",
    "    name, \n",
    "    datetime, \n",
    "    precip\n",
    "FROM \n",
    "    weather \n",
    "ORDER BY \n",
    "    precip DESC \n",
    "LIMIT 10\n",
    "\"\"\")\n",
    "\n",
    "top_precip_days_sql.show()"
   ]
  },
  {
   "cell_type": "code",
   "execution_count": null,
   "id": "2dafe1a2-11f2-4a31-82b2-d3d453fd4e07",
   "metadata": {},
   "outputs": [],
   "source": [
    "# Calculate the sum of precipitation for each country and date\n",
    "daily_precip_sql = spark.sql(\"\"\"\n",
    "SELECT \n",
    "    name, \n",
    "    DATE_FORMAT(datetime, 'yyyy-MM-dd') as date,\n",
    "    SUM(precip) as daily_precip\n",
    "FROM \n",
    "    weather \n",
    "GROUP BY \n",
    "    name, \n",
    "    date\n",
    "\"\"\")\n",
    "\n",
    "# Register the result DataFrame as a SQL temporary view\n",
    "daily_precip_sql.createOrReplaceTempView(\"daily_precip\")"
   ]
  },
  {
   "cell_type": "code",
   "execution_count": null,
   "id": "515036a3-a61b-4151-848f-66b709b12d01",
   "metadata": {},
   "outputs": [],
   "source": [
    "# Find the day with the maximum precipitation for each country\n",
    "max_daily_precip_sql = spark.sql(\"\"\"\n",
    "SELECT \n",
    "    name, \n",
    "    MAX(daily_precip) as max_daily_precip\n",
    "FROM \n",
    "    daily_precip \n",
    "GROUP BY \n",
    "    name\n",
    "ORDER BY \n",
    "    max_daily_precip DESC\n",
    "\"\"\")\n",
    "\n",
    "max_daily_precip_sql.show()"
   ]
  },
  {
   "cell_type": "code",
   "execution_count": null,
   "id": "0ce10ebe-893e-44f3-9e50-cea856e9bc86",
   "metadata": {},
   "outputs": [],
   "source": [
    "# Filter out Russia from the DataFrame\n",
    "max_daily_precip_sql = max_daily_precip_sql.filter(max_daily_precip_sql.name != \"Russia\")\n",
    "\n",
    "# Display the filtered result\n",
    "max_daily_precip_sql.show()"
   ]
  },
  {
   "cell_type": "code",
   "execution_count": null,
   "id": "f9c94c59-9bc1-463e-b3e1-2f35a645e822",
   "metadata": {},
   "outputs": [],
   "source": [
    "# Create temporary view with the year column\n",
    "spark.sql(\"\"\"\n",
    "CREATE OR REPLACE TEMPORARY VIEW weather_with_year AS\n",
    "SELECT \n",
    "    name, \n",
    "    YEAR(datetime) as year,\n",
    "    temp\n",
    "FROM \n",
    "    weather_data\n",
    "WHERE \n",
    "    YEAR(datetime) < 2022\n",
    "\"\"\")\n",
    "\n",
    "# Now perform the SQL query\n",
    "average_annual_temp_sql = spark.sql(\"\"\"\n",
    "SELECT \n",
    "    name, \n",
    "    year,\n",
    "    AVG(temp) as average_temp\n",
    "FROM \n",
    "    weather_with_year\n",
    "GROUP BY \n",
    "    name, \n",
    "    year\n",
    "ORDER BY \n",
    "    name, \n",
    "    year\n",
    "\"\"\")\n",
    "\n",
    "average_annual_temp_sql.show()"
   ]
  },
  {
   "cell_type": "markdown",
   "id": "9f5e06ce-fb44-4c30-94ae-6284940b2d73",
   "metadata": {},
   "source": [
    "# Viz"
   ]
  },
  {
   "cell_type": "code",
   "execution_count": null,
   "id": "3e68a2b4-d4aa-45e7-9bff-f8c9284b8417",
   "metadata": {},
   "outputs": [],
   "source": [
    "import matplotlib.pyplot as plt\n",
    "import seaborn as sns"
   ]
  },
  {
   "cell_type": "code",
   "execution_count": null,
   "id": "86072660-37dc-4278-88c5-01e3cdae0abc",
   "metadata": {},
   "outputs": [],
   "source": [
    "# Spark DataFrame Conversion to Pandas DataFrame\n",
    "average_temp_pd = average_temp.toPandas()"
   ]
  },
  {
   "cell_type": "code",
   "execution_count": null,
   "id": "471c00ce-143c-4b4f-ba65-74c1c56d78ae",
   "metadata": {},
   "outputs": [],
   "source": [
    "# Set Chart Style\n",
    "sns.set(style=\"whitegrid\")"
   ]
  },
  {
   "cell_type": "code",
   "execution_count": null,
   "id": "69c5a3d8-6595-45e9-9112-fc53e87dd7f5",
   "metadata": {},
   "outputs": [],
   "source": [
    "# Bar Chart\n",
    "plt.figure(figsize=(12, 6))\n",
    "ax = sns.barplot(\n",
    "    x=\"name\", \n",
    "    y=\"average_temp\", \n",
    "    palette=\"coolwarm_r\", \n",
    "    data=average_temp_pd\n",
    ")\n",
    "\n",
    "# Title & Axis Labels\n",
    "plt.title(\"Average Temperature by Country\")\n",
    "plt.xlabel(\"Country\")\n",
    "plt.ylabel(\"Average Temp\")\n",
    "plt.xticks(rotation=45)\n",
    "\n",
    "#Show Chart\n",
    "plt.show()"
   ]
  },
  {
   "cell_type": "code",
   "execution_count": null,
   "id": "308743ba-86f8-4263-b14a-928e374f6ae7",
   "metadata": {},
   "outputs": [],
   "source": [
    "# Spark DataFrame Conversion to Pandas DataFrame\n",
    "top_precip_days_pd = top_precip_days.toPandas()"
   ]
  },
  {
   "cell_type": "code",
   "execution_count": null,
   "id": "c9c40765-0cfc-45b0-8e08-b5fe221ad4d8",
   "metadata": {},
   "outputs": [],
   "source": [
    "# Bar Chart\n",
    "plt.figure(figsize=(12, 6))\n",
    "ax = sns.barplot(x=\"datetime\", y=\"precip\", hue=\"name\", data=top_precip_days_pd)\n",
    "\n",
    "# Title & Axis Labels\n",
    "plt.title(\"Top 10 days with the most precipitation for all countries\")\n",
    "plt.xlabel(\"Date\")\n",
    "plt.ylabel(\"Precipitation\")\n",
    "plt.xticks(rotation=45)\n",
    "\n",
    "# Show Chart\n",
    "plt.show()"
   ]
  }
 ],
 "metadata": {
  "kernelspec": {
   "display_name": "Python 3 (ipykernel)",
   "language": "python",
   "name": "python3"
  },
  "language_info": {
   "codemirror_mode": {
    "name": "ipython",
    "version": 3
   },
   "file_extension": ".py",
   "mimetype": "text/x-python",
   "name": "python",
   "nbconvert_exporter": "python",
   "pygments_lexer": "ipython3",
   "version": "3.10.5"
  }
 },
 "nbformat": 4,
 "nbformat_minor": 5
}
